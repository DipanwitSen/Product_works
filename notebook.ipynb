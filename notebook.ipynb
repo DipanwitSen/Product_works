{
 "cells": [
  {
   "cell_type": "code",
   "execution_count": 73,
   "metadata": {
    "_cell_guid": "b1076dfc-b9ad-4769-8c92-a6c4dae69d19",
    "_uuid": "8f2839f25d086af736a60e9eeb907d3b93b6e0e5",
    "execution": {
     "iopub.execute_input": "2025-08-06T12:34:56.923025Z",
     "iopub.status.busy": "2025-08-06T12:34:56.922715Z",
     "iopub.status.idle": "2025-08-06T12:34:56.944059Z",
     "shell.execute_reply": "2025-08-06T12:34:56.942594Z",
     "shell.execute_reply.started": "2025-08-06T12:34:56.923003Z"
    },
    "trusted": true
   },
   "outputs": [
    {
     "name": "stdout",
     "output_type": "stream",
     "text": [
      "/kaggle/input/sentiment-analysis-dataset/training.1600000.processed.noemoticon.csv\n",
      "/kaggle/input/sentiment-analysis-dataset/train.csv\n",
      "/kaggle/input/sentiment-analysis-dataset/testdata.manual.2009.06.14.csv\n",
      "/kaggle/input/sentiment-analysis-dataset/test.csv\n"
     ]
    }
   ],
   "source": [
    "# This Python 3 environment comes with many helpful analytics libraries installed\n",
    "# It is defined by the kaggle/python Docker image: https://github.com/kaggle/docker-python\n",
    "# For example, here's several helpful packages to load\n",
    "\n",
    "import numpy as np # linear algebra\n",
    "import pandas as pd # data processing, CSV file I/O (e.g. pd.read_csv)\n",
    "\n",
    "# Input data files are available in the read-only \"../input/\" directory\n",
    "# For example, running this (by clicking run or pressing Shift+Enter) will list all files under the input directory\n",
    "\n",
    "import os\n",
    "for dirname, _, filenames in os.walk('/kaggle/input'):\n",
    "    for filename in filenames:\n",
    "        print(os.path.join(dirname, filename))\n",
    "\n",
    "# You can write up to 20GB to the current directory (/kaggle/working/) that gets preserved as output when you create a version using \"Save & Run All\" \n",
    "# You can also write temporary files to /kaggle/temp/, but they won't be saved outside of the current session"
   ]
  },
  {
   "cell_type": "markdown",
   "metadata": {},
   "source": [
    "**1. Import Libraries & Load Dataset**"
   ]
  },
  {
   "cell_type": "code",
   "execution_count": 74,
   "metadata": {
    "execution": {
     "iopub.execute_input": "2025-08-06T12:34:58.879422Z",
     "iopub.status.busy": "2025-08-06T12:34:58.879102Z",
     "iopub.status.idle": "2025-08-06T12:34:58.885995Z",
     "shell.execute_reply": "2025-08-06T12:34:58.884836Z",
     "shell.execute_reply.started": "2025-08-06T12:34:58.879399Z"
    },
    "trusted": true
   },
   "outputs": [],
   "source": [
    "# 📦 Importing Libraries\n",
    "import pandas as pd\n",
    "import numpy as np\n",
    "import re\n",
    "import string\n",
    "import matplotlib.pyplot as plt\n",
    "import seaborn as sns\n",
    "\n",
    "from sklearn.model_selection import train_test_split\n",
    "from sklearn.feature_extraction.text import TfidfVectorizer\n",
    "from sklearn.linear_model import LogisticRegression\n",
    "from sklearn.metrics import classification_report, confusion_matrix, accuracy_score\n",
    "\n",
    "import warnings\n",
    "warnings.filterwarnings('ignore')\n"
   ]
  },
  {
   "cell_type": "markdown",
   "metadata": {},
   "source": [
    "**2.Load Dataset**"
   ]
  },
  {
   "cell_type": "code",
   "execution_count": 75,
   "metadata": {
    "execution": {
     "iopub.execute_input": "2025-08-06T12:35:00.242827Z",
     "iopub.status.busy": "2025-08-06T12:35:00.242336Z",
     "iopub.status.idle": "2025-08-06T12:35:00.454806Z",
     "shell.execute_reply": "2025-08-06T12:35:00.453542Z",
     "shell.execute_reply.started": "2025-08-06T12:35:00.242790Z"
    },
    "trusted": true
   },
   "outputs": [],
   "source": [
    "df = pd.read_csv(\"/kaggle/input/sentiment-analysis-dataset/train.csv\", encoding='latin1')\n",
    "test = pd.read_csv(\"/kaggle/input/sentiment-analysis-dataset/test.csv\", encoding='latin1')"
   ]
  },
  {
   "cell_type": "code",
   "execution_count": 76,
   "metadata": {
    "execution": {
     "iopub.execute_input": "2025-08-06T12:35:01.068406Z",
     "iopub.status.busy": "2025-08-06T12:35:01.068067Z",
     "iopub.status.idle": "2025-08-06T12:35:01.082830Z",
     "shell.execute_reply": "2025-08-06T12:35:01.081571Z",
     "shell.execute_reply.started": "2025-08-06T12:35:01.068381Z"
    },
    "trusted": true
   },
   "outputs": [
    {
     "data": {
      "text/html": [
       "<div>\n",
       "<style scoped>\n",
       "    .dataframe tbody tr th:only-of-type {\n",
       "        vertical-align: middle;\n",
       "    }\n",
       "\n",
       "    .dataframe tbody tr th {\n",
       "        vertical-align: top;\n",
       "    }\n",
       "\n",
       "    .dataframe thead th {\n",
       "        text-align: right;\n",
       "    }\n",
       "</style>\n",
       "<table border=\"1\" class=\"dataframe\">\n",
       "  <thead>\n",
       "    <tr style=\"text-align: right;\">\n",
       "      <th></th>\n",
       "      <th>textID</th>\n",
       "      <th>text</th>\n",
       "      <th>selected_text</th>\n",
       "      <th>sentiment</th>\n",
       "      <th>Time of Tweet</th>\n",
       "      <th>Age of User</th>\n",
       "      <th>Country</th>\n",
       "      <th>Population -2020</th>\n",
       "      <th>Land Area (Km²)</th>\n",
       "      <th>Density (P/Km²)</th>\n",
       "    </tr>\n",
       "  </thead>\n",
       "  <tbody>\n",
       "    <tr>\n",
       "      <th>0</th>\n",
       "      <td>cb774db0d1</td>\n",
       "      <td>I`d have responded, if I were going</td>\n",
       "      <td>I`d have responded, if I were going</td>\n",
       "      <td>neutral</td>\n",
       "      <td>morning</td>\n",
       "      <td>0-20</td>\n",
       "      <td>Afghanistan</td>\n",
       "      <td>38928346</td>\n",
       "      <td>652860.0</td>\n",
       "      <td>60</td>\n",
       "    </tr>\n",
       "    <tr>\n",
       "      <th>1</th>\n",
       "      <td>549e992a42</td>\n",
       "      <td>Sooo SAD I will miss you here in San Diego!!!</td>\n",
       "      <td>Sooo SAD</td>\n",
       "      <td>negative</td>\n",
       "      <td>noon</td>\n",
       "      <td>21-30</td>\n",
       "      <td>Albania</td>\n",
       "      <td>2877797</td>\n",
       "      <td>27400.0</td>\n",
       "      <td>105</td>\n",
       "    </tr>\n",
       "    <tr>\n",
       "      <th>2</th>\n",
       "      <td>088c60f138</td>\n",
       "      <td>my boss is bullying me...</td>\n",
       "      <td>bullying me</td>\n",
       "      <td>negative</td>\n",
       "      <td>night</td>\n",
       "      <td>31-45</td>\n",
       "      <td>Algeria</td>\n",
       "      <td>43851044</td>\n",
       "      <td>2381740.0</td>\n",
       "      <td>18</td>\n",
       "    </tr>\n",
       "    <tr>\n",
       "      <th>3</th>\n",
       "      <td>9642c003ef</td>\n",
       "      <td>what interview! leave me alone</td>\n",
       "      <td>leave me alone</td>\n",
       "      <td>negative</td>\n",
       "      <td>morning</td>\n",
       "      <td>46-60</td>\n",
       "      <td>Andorra</td>\n",
       "      <td>77265</td>\n",
       "      <td>470.0</td>\n",
       "      <td>164</td>\n",
       "    </tr>\n",
       "    <tr>\n",
       "      <th>4</th>\n",
       "      <td>358bd9e861</td>\n",
       "      <td>Sons of ****, why couldn`t they put them on t...</td>\n",
       "      <td>Sons of ****,</td>\n",
       "      <td>negative</td>\n",
       "      <td>noon</td>\n",
       "      <td>60-70</td>\n",
       "      <td>Angola</td>\n",
       "      <td>32866272</td>\n",
       "      <td>1246700.0</td>\n",
       "      <td>26</td>\n",
       "    </tr>\n",
       "  </tbody>\n",
       "</table>\n",
       "</div>"
      ],
      "text/plain": [
       "       textID                                               text  \\\n",
       "0  cb774db0d1                I`d have responded, if I were going   \n",
       "1  549e992a42      Sooo SAD I will miss you here in San Diego!!!   \n",
       "2  088c60f138                          my boss is bullying me...   \n",
       "3  9642c003ef                     what interview! leave me alone   \n",
       "4  358bd9e861   Sons of ****, why couldn`t they put them on t...   \n",
       "\n",
       "                         selected_text sentiment Time of Tweet Age of User  \\\n",
       "0  I`d have responded, if I were going   neutral       morning        0-20   \n",
       "1                             Sooo SAD  negative          noon       21-30   \n",
       "2                          bullying me  negative         night       31-45   \n",
       "3                       leave me alone  negative       morning       46-60   \n",
       "4                        Sons of ****,  negative          noon       60-70   \n",
       "\n",
       "       Country  Population -2020  Land Area (Km²)  Density (P/Km²)  \n",
       "0  Afghanistan          38928346         652860.0               60  \n",
       "1      Albania           2877797          27400.0              105  \n",
       "2      Algeria          43851044        2381740.0               18  \n",
       "3      Andorra             77265            470.0              164  \n",
       "4       Angola          32866272        1246700.0               26  "
      ]
     },
     "execution_count": 76,
     "metadata": {},
     "output_type": "execute_result"
    }
   ],
   "source": [
    "df.head()"
   ]
  },
  {
   "cell_type": "code",
   "execution_count": 77,
   "metadata": {
    "execution": {
     "iopub.execute_input": "2025-08-06T12:35:02.056538Z",
     "iopub.status.busy": "2025-08-06T12:35:02.056142Z",
     "iopub.status.idle": "2025-08-06T12:35:02.065973Z",
     "shell.execute_reply": "2025-08-06T12:35:02.064830Z",
     "shell.execute_reply.started": "2025-08-06T12:35:02.056506Z"
    },
    "trusted": true
   },
   "outputs": [],
   "source": [
    "#concat training and testing dataset\n",
    "df = pd.concat([df,test])"
   ]
  },
  {
   "cell_type": "code",
   "execution_count": 78,
   "metadata": {
    "execution": {
     "iopub.execute_input": "2025-08-06T12:35:06.033092Z",
     "iopub.status.busy": "2025-08-06T12:35:06.031882Z",
     "iopub.status.idle": "2025-08-06T12:35:06.039551Z",
     "shell.execute_reply": "2025-08-06T12:35:06.038498Z",
     "shell.execute_reply.started": "2025-08-06T12:35:06.033050Z"
    },
    "trusted": true
   },
   "outputs": [
    {
     "data": {
      "text/plain": [
       "(32296, 10)"
      ]
     },
     "execution_count": 78,
     "metadata": {},
     "output_type": "execute_result"
    }
   ],
   "source": [
    "df.shape"
   ]
  },
  {
   "cell_type": "code",
   "execution_count": 79,
   "metadata": {
    "execution": {
     "iopub.execute_input": "2025-08-06T12:35:06.891039Z",
     "iopub.status.busy": "2025-08-06T12:35:06.890740Z",
     "iopub.status.idle": "2025-08-06T12:35:06.902170Z",
     "shell.execute_reply": "2025-08-06T12:35:06.900975Z",
     "shell.execute_reply.started": "2025-08-06T12:35:06.891018Z"
    },
    "trusted": true
   },
   "outputs": [
    {
     "data": {
      "text/plain": [
       "sentiment\n",
       "neutral     12548\n",
       "positive     9685\n",
       "negative     8782\n",
       "Name: count, dtype: int64"
      ]
     },
     "execution_count": 79,
     "metadata": {},
     "output_type": "execute_result"
    }
   ],
   "source": [
    "#check unique values of sentiment column \n",
    "df['sentiment'].value_counts()"
   ]
  },
  {
   "cell_type": "code",
   "execution_count": 80,
   "metadata": {
    "execution": {
     "iopub.execute_input": "2025-08-06T12:35:07.667541Z",
     "iopub.status.busy": "2025-08-06T12:35:07.667222Z",
     "iopub.status.idle": "2025-08-06T12:35:07.675843Z",
     "shell.execute_reply": "2025-08-06T12:35:07.674757Z",
     "shell.execute_reply.started": "2025-08-06T12:35:07.667518Z"
    },
    "trusted": true
   },
   "outputs": [],
   "source": [
    "#drop uncessary columns \n",
    "df.drop(columns=['textID','Time of Tweet', 'Age of User', 'Country', 'Population -2020', 'Land Area (Km²)', 'Density (P/Km²)', \"selected_text\"], axis=1, inplace=True)"
   ]
  },
  {
   "cell_type": "code",
   "execution_count": 81,
   "metadata": {
    "execution": {
     "iopub.execute_input": "2025-08-06T12:35:09.391194Z",
     "iopub.status.busy": "2025-08-06T12:35:09.390782Z",
     "iopub.status.idle": "2025-08-06T12:35:09.404364Z",
     "shell.execute_reply": "2025-08-06T12:35:09.403275Z",
     "shell.execute_reply.started": "2025-08-06T12:35:09.391167Z"
    },
    "trusted": true
   },
   "outputs": [
    {
     "data": {
      "text/plain": [
       "text         1282\n",
       "sentiment    1281\n",
       "dtype: int64"
      ]
     },
     "execution_count": 81,
     "metadata": {},
     "output_type": "execute_result"
    }
   ],
   "source": [
    "df.isnull().sum()"
   ]
  },
  {
   "cell_type": "code",
   "execution_count": 82,
   "metadata": {
    "execution": {
     "iopub.execute_input": "2025-08-06T12:35:10.144531Z",
     "iopub.status.busy": "2025-08-06T12:35:10.144169Z",
     "iopub.status.idle": "2025-08-06T12:35:10.158117Z",
     "shell.execute_reply": "2025-08-06T12:35:10.157015Z",
     "shell.execute_reply.started": "2025-08-06T12:35:10.144507Z"
    },
    "trusted": true
   },
   "outputs": [],
   "source": [
    "df.dropna(inplace=True)"
   ]
  },
  {
   "cell_type": "code",
   "execution_count": 83,
   "metadata": {
    "execution": {
     "iopub.execute_input": "2025-08-06T12:35:11.559567Z",
     "iopub.status.busy": "2025-08-06T12:35:11.558326Z",
     "iopub.status.idle": "2025-08-06T12:35:11.582381Z",
     "shell.execute_reply": "2025-08-06T12:35:11.581431Z",
     "shell.execute_reply.started": "2025-08-06T12:35:11.559516Z"
    },
    "trusted": true
   },
   "outputs": [
    {
     "data": {
      "text/plain": [
       "0"
      ]
     },
     "execution_count": 83,
     "metadata": {},
     "output_type": "execute_result"
    }
   ],
   "source": [
    "df.duplicated().sum()"
   ]
  },
  {
   "cell_type": "markdown",
   "metadata": {},
   "source": [
    "**3.Data Preprocessing**"
   ]
  },
  {
   "cell_type": "code",
   "execution_count": 84,
   "metadata": {
    "execution": {
     "iopub.execute_input": "2025-08-06T12:35:13.906081Z",
     "iopub.status.busy": "2025-08-06T12:35:13.905249Z",
     "iopub.status.idle": "2025-08-06T12:35:13.911687Z",
     "shell.execute_reply": "2025-08-06T12:35:13.910435Z",
     "shell.execute_reply.started": "2025-08-06T12:35:13.906032Z"
    },
    "trusted": true
   },
   "outputs": [],
   "source": [
    "def remove_tags(raw_text):\n",
    "    cleaned_text = re.sub(re.compile('<.*?>'), '', str(raw_text))\n",
    "    return cleaned_text"
   ]
  },
  {
   "cell_type": "code",
   "execution_count": 85,
   "metadata": {
    "execution": {
     "iopub.execute_input": "2025-08-06T12:35:14.555299Z",
     "iopub.status.busy": "2025-08-06T12:35:14.555014Z",
     "iopub.status.idle": "2025-08-06T12:35:14.887823Z",
     "shell.execute_reply": "2025-08-06T12:35:14.886634Z",
     "shell.execute_reply.started": "2025-08-06T12:35:14.555282Z"
    },
    "trusted": true
   },
   "outputs": [],
   "source": [
    "#remove tags and making everything in lower case\n",
    "df['cleaned_text'] = df['text'].apply(remove_tags)\n",
    "df['cleaned_text'] = df['text'].apply(lambda x:str(x).lower())\n",
    "def remove_unnecessary_characters(text):\n",
    "    text = re.sub(r'[^a-zA-Z0-9\\s]', '', str(text))\n",
    "    text = re.sub(r'\\s+', ' ', str(text)).strip()\n",
    "    return text\n",
    "df['cleaned_text'] = df['text'].apply(remove_unnecessary_characters)    "
   ]
  },
  {
   "cell_type": "markdown",
   "metadata": {},
   "source": [
    "**4.Normalize**"
   ]
  },
  {
   "cell_type": "code",
   "execution_count": 86,
   "metadata": {
    "execution": {
     "iopub.execute_input": "2025-08-06T12:35:16.719722Z",
     "iopub.status.busy": "2025-08-06T12:35:16.719367Z",
     "iopub.status.idle": "2025-08-06T12:35:16.999328Z",
     "shell.execute_reply": "2025-08-06T12:35:16.998112Z",
     "shell.execute_reply.started": "2025-08-06T12:35:16.719698Z"
    },
    "trusted": true
   },
   "outputs": [],
   "source": [
    "def normalize_text(text):\n",
    "    if isinstance(text, str):\n",
    "        text = re.sub(r'[^\\w\\s]', '', text)\n",
    "        text = re.sub(r'\\s+', ' ', text).strip()\n",
    "    else:\n",
    "        text = str(text)\n",
    "    return text\n",
    "df['cleaned_text'] = df['text'].apply(normalize_text)"
   ]
  },
  {
   "cell_type": "code",
   "execution_count": 87,
   "metadata": {
    "execution": {
     "iopub.execute_input": "2025-08-06T12:35:18.084530Z",
     "iopub.status.busy": "2025-08-06T12:35:18.084190Z",
     "iopub.status.idle": "2025-08-06T12:35:19.226757Z",
     "shell.execute_reply": "2025-08-06T12:35:19.225769Z",
     "shell.execute_reply.started": "2025-08-06T12:35:18.084472Z"
    },
    "trusted": true
   },
   "outputs": [
    {
     "name": "stderr",
     "output_type": "stream",
     "text": [
      "[nltk_data] Downloading package stopwords to /usr/share/nltk_data...\n",
      "[nltk_data]   Package stopwords is already up-to-date!\n"
     ]
    }
   ],
   "source": [
    "#remove stepwords and url\n",
    "from nltk.corpus import stopwords\n",
    "import nltk\n",
    "\n",
    "nltk.download('stopwords')\n",
    "sw_list = stopwords.words('english')\n",
    "\n",
    "df['cleaned_text'] = df['text'].apply(lambda x: [item for item in x.split() if item not in sw_list]).apply(lambda x:\" \".join(x))\n",
    "def remove_urls(text):\n",
    "    pattern = re.compile(r'https?://\\S+|www\\.\\S+')\n",
    "    pattern = re.compile(r'http?://\\S+|www\\.\\S+')\n",
    "    return pattern.sub(r'', text)\n",
    "df['cleaned_text'] = df['text'].apply(remove_urls)    "
   ]
  },
  {
   "cell_type": "code",
   "execution_count": 88,
   "metadata": {
    "execution": {
     "iopub.execute_input": "2025-08-06T12:35:19.228357Z",
     "iopub.status.busy": "2025-08-06T12:35:19.228085Z",
     "iopub.status.idle": "2025-08-06T12:35:19.237559Z",
     "shell.execute_reply": "2025-08-06T12:35:19.236729Z",
     "shell.execute_reply.started": "2025-08-06T12:35:19.228335Z"
    },
    "trusted": true
   },
   "outputs": [
    {
     "data": {
      "text/html": [
       "<div>\n",
       "<style scoped>\n",
       "    .dataframe tbody tr th:only-of-type {\n",
       "        vertical-align: middle;\n",
       "    }\n",
       "\n",
       "    .dataframe tbody tr th {\n",
       "        vertical-align: top;\n",
       "    }\n",
       "\n",
       "    .dataframe thead th {\n",
       "        text-align: right;\n",
       "    }\n",
       "</style>\n",
       "<table border=\"1\" class=\"dataframe\">\n",
       "  <thead>\n",
       "    <tr style=\"text-align: right;\">\n",
       "      <th></th>\n",
       "      <th>text</th>\n",
       "      <th>sentiment</th>\n",
       "      <th>cleaned_text</th>\n",
       "    </tr>\n",
       "  </thead>\n",
       "  <tbody>\n",
       "    <tr>\n",
       "      <th>0</th>\n",
       "      <td>I`d have responded, if I were going</td>\n",
       "      <td>neutral</td>\n",
       "      <td>I`d have responded, if I were going</td>\n",
       "    </tr>\n",
       "    <tr>\n",
       "      <th>1</th>\n",
       "      <td>Sooo SAD I will miss you here in San Diego!!!</td>\n",
       "      <td>negative</td>\n",
       "      <td>Sooo SAD I will miss you here in San Diego!!!</td>\n",
       "    </tr>\n",
       "    <tr>\n",
       "      <th>2</th>\n",
       "      <td>my boss is bullying me...</td>\n",
       "      <td>negative</td>\n",
       "      <td>my boss is bullying me...</td>\n",
       "    </tr>\n",
       "    <tr>\n",
       "      <th>3</th>\n",
       "      <td>what interview! leave me alone</td>\n",
       "      <td>negative</td>\n",
       "      <td>what interview! leave me alone</td>\n",
       "    </tr>\n",
       "    <tr>\n",
       "      <th>4</th>\n",
       "      <td>Sons of ****, why couldn`t they put them on t...</td>\n",
       "      <td>negative</td>\n",
       "      <td>Sons of ****, why couldn`t they put them on t...</td>\n",
       "    </tr>\n",
       "  </tbody>\n",
       "</table>\n",
       "</div>"
      ],
      "text/plain": [
       "                                                text sentiment  \\\n",
       "0                I`d have responded, if I were going   neutral   \n",
       "1      Sooo SAD I will miss you here in San Diego!!!  negative   \n",
       "2                          my boss is bullying me...  negative   \n",
       "3                     what interview! leave me alone  negative   \n",
       "4   Sons of ****, why couldn`t they put them on t...  negative   \n",
       "\n",
       "                                        cleaned_text  \n",
       "0                I`d have responded, if I were going  \n",
       "1      Sooo SAD I will miss you here in San Diego!!!  \n",
       "2                          my boss is bullying me...  \n",
       "3                     what interview! leave me alone  \n",
       "4   Sons of ****, why couldn`t they put them on t...  "
      ]
     },
     "execution_count": 88,
     "metadata": {},
     "output_type": "execute_result"
    }
   ],
   "source": [
    "df.head()"
   ]
  },
  {
   "cell_type": "code",
   "execution_count": 89,
   "metadata": {
    "execution": {
     "iopub.execute_input": "2025-08-06T12:35:20.463864Z",
     "iopub.status.busy": "2025-08-06T12:35:20.463560Z",
     "iopub.status.idle": "2025-08-06T12:35:20.599595Z",
     "shell.execute_reply": "2025-08-06T12:35:20.598725Z",
     "shell.execute_reply.started": "2025-08-06T12:35:20.463843Z"
    },
    "trusted": true
   },
   "outputs": [],
   "source": [
    "exclude = string.punctuation\n",
    "exclude\n",
    "\n",
    "def remove_punc1(text):\n",
    "    return text.translate(str.maketrans('', '', exclude))\n",
    "df['cleaned_text'] = df['text'].apply(remove_punc1)\n"
   ]
  },
  {
   "cell_type": "markdown",
   "metadata": {},
   "source": [
    "**5.Splitting Dataset**"
   ]
  },
  {
   "cell_type": "code",
   "execution_count": 90,
   "metadata": {
    "execution": {
     "iopub.execute_input": "2025-08-06T12:35:22.211983Z",
     "iopub.status.busy": "2025-08-06T12:35:22.211187Z",
     "iopub.status.idle": "2025-08-06T12:35:22.221718Z",
     "shell.execute_reply": "2025-08-06T12:35:22.220600Z",
     "shell.execute_reply.started": "2025-08-06T12:35:22.211952Z"
    },
    "trusted": true
   },
   "outputs": [],
   "source": [
    "X = df['cleaned_text']\n",
    "y = df['sentiment']"
   ]
  },
  {
   "cell_type": "markdown",
   "metadata": {},
   "source": [
    "**6.Encoding Categorical Variable**"
   ]
  },
  {
   "cell_type": "code",
   "execution_count": 91,
   "metadata": {
    "execution": {
     "iopub.execute_input": "2025-08-06T12:35:25.347003Z",
     "iopub.status.busy": "2025-08-06T12:35:25.346008Z",
     "iopub.status.idle": "2025-08-06T12:35:28.400414Z",
     "shell.execute_reply": "2025-08-06T12:35:28.399223Z",
     "shell.execute_reply.started": "2025-08-06T12:35:25.346968Z"
    },
    "trusted": true
   },
   "outputs": [],
   "source": [
    "from sklearn.preprocessing import LabelEncoder\n",
    "\n",
    "encoder = LabelEncoder()\n",
    "\n",
    "y = encoder.fit_transform(y)\n",
    "from sklearn.model_selection import train_test_split\n",
    "X_train,X_test,y_train,y_test = train_test_split(X,y,test_size=0.2,random_state=1)\n",
    "from sklearn.feature_extraction.text import CountVectorizer\n",
    "cv = CountVectorizer()\n",
    "X_train_bow = cv.fit_transform(X_train).toarray()\n",
    "X_test_bow = cv.transform(X_test).toarray()"
   ]
  },
  {
   "cell_type": "code",
   "execution_count": 92,
   "metadata": {
    "execution": {
     "iopub.execute_input": "2025-08-06T12:35:28.403069Z",
     "iopub.status.busy": "2025-08-06T12:35:28.402397Z",
     "iopub.status.idle": "2025-08-06T12:39:32.542671Z",
     "shell.execute_reply": "2025-08-06T12:39:32.541645Z",
     "shell.execute_reply.started": "2025-08-06T12:35:28.402994Z"
    },
    "trusted": true
   },
   "outputs": [
    {
     "name": "stderr",
     "output_type": "stream",
     "text": [
      "/usr/local/lib/python3.11/dist-packages/sklearn/linear_model/_logistic.py:458: ConvergenceWarning: lbfgs failed to converge (status=1):\n",
      "STOP: TOTAL NO. OF ITERATIONS REACHED LIMIT.\n",
      "\n",
      "Increase the number of iterations (max_iter) or scale the data as shown in:\n",
      "    https://scikit-learn.org/stable/modules/preprocessing.html\n",
      "Please also refer to the documentation for alternative solver options:\n",
      "    https://scikit-learn.org/stable/modules/linear_model.html#logistic-regression\n",
      "  n_iter_i = _check_optimize_result(\n"
     ]
    },
    {
     "data": {
      "text/html": [
       "<style>#sk-container-id-3 {color: black;background-color: white;}#sk-container-id-3 pre{padding: 0;}#sk-container-id-3 div.sk-toggleable {background-color: white;}#sk-container-id-3 label.sk-toggleable__label {cursor: pointer;display: block;width: 100%;margin-bottom: 0;padding: 0.3em;box-sizing: border-box;text-align: center;}#sk-container-id-3 label.sk-toggleable__label-arrow:before {content: \"▸\";float: left;margin-right: 0.25em;color: #696969;}#sk-container-id-3 label.sk-toggleable__label-arrow:hover:before {color: black;}#sk-container-id-3 div.sk-estimator:hover label.sk-toggleable__label-arrow:before {color: black;}#sk-container-id-3 div.sk-toggleable__content {max-height: 0;max-width: 0;overflow: hidden;text-align: left;background-color: #f0f8ff;}#sk-container-id-3 div.sk-toggleable__content pre {margin: 0.2em;color: black;border-radius: 0.25em;background-color: #f0f8ff;}#sk-container-id-3 input.sk-toggleable__control:checked~div.sk-toggleable__content {max-height: 200px;max-width: 100%;overflow: auto;}#sk-container-id-3 input.sk-toggleable__control:checked~label.sk-toggleable__label-arrow:before {content: \"▾\";}#sk-container-id-3 div.sk-estimator input.sk-toggleable__control:checked~label.sk-toggleable__label {background-color: #d4ebff;}#sk-container-id-3 div.sk-label input.sk-toggleable__control:checked~label.sk-toggleable__label {background-color: #d4ebff;}#sk-container-id-3 input.sk-hidden--visually {border: 0;clip: rect(1px 1px 1px 1px);clip: rect(1px, 1px, 1px, 1px);height: 1px;margin: -1px;overflow: hidden;padding: 0;position: absolute;width: 1px;}#sk-container-id-3 div.sk-estimator {font-family: monospace;background-color: #f0f8ff;border: 1px dotted black;border-radius: 0.25em;box-sizing: border-box;margin-bottom: 0.5em;}#sk-container-id-3 div.sk-estimator:hover {background-color: #d4ebff;}#sk-container-id-3 div.sk-parallel-item::after {content: \"\";width: 100%;border-bottom: 1px solid gray;flex-grow: 1;}#sk-container-id-3 div.sk-label:hover label.sk-toggleable__label {background-color: #d4ebff;}#sk-container-id-3 div.sk-serial::before {content: \"\";position: absolute;border-left: 1px solid gray;box-sizing: border-box;top: 0;bottom: 0;left: 50%;z-index: 0;}#sk-container-id-3 div.sk-serial {display: flex;flex-direction: column;align-items: center;background-color: white;padding-right: 0.2em;padding-left: 0.2em;position: relative;}#sk-container-id-3 div.sk-item {position: relative;z-index: 1;}#sk-container-id-3 div.sk-parallel {display: flex;align-items: stretch;justify-content: center;background-color: white;position: relative;}#sk-container-id-3 div.sk-item::before, #sk-container-id-3 div.sk-parallel-item::before {content: \"\";position: absolute;border-left: 1px solid gray;box-sizing: border-box;top: 0;bottom: 0;left: 50%;z-index: -1;}#sk-container-id-3 div.sk-parallel-item {display: flex;flex-direction: column;z-index: 1;position: relative;background-color: white;}#sk-container-id-3 div.sk-parallel-item:first-child::after {align-self: flex-end;width: 50%;}#sk-container-id-3 div.sk-parallel-item:last-child::after {align-self: flex-start;width: 50%;}#sk-container-id-3 div.sk-parallel-item:only-child::after {width: 0;}#sk-container-id-3 div.sk-dashed-wrapped {border: 1px dashed gray;margin: 0 0.4em 0.5em 0.4em;box-sizing: border-box;padding-bottom: 0.4em;background-color: white;}#sk-container-id-3 div.sk-label label {font-family: monospace;font-weight: bold;display: inline-block;line-height: 1.2em;}#sk-container-id-3 div.sk-label-container {text-align: center;}#sk-container-id-3 div.sk-container {/* jupyter's `normalize.less` sets `[hidden] { display: none; }` but bootstrap.min.css set `[hidden] { display: none !important; }` so we also need the `!important` here to be able to override the default hidden behavior on the sphinx rendered scikit-learn.org. See: https://github.com/scikit-learn/scikit-learn/issues/21755 */display: inline-block !important;position: relative;}#sk-container-id-3 div.sk-text-repr-fallback {display: none;}</style><div id=\"sk-container-id-3\" class=\"sk-top-container\"><div class=\"sk-text-repr-fallback\"><pre>LogisticRegression(n_jobs=-1)</pre><b>In a Jupyter environment, please rerun this cell to show the HTML representation or trust the notebook. <br />On GitHub, the HTML representation is unable to render, please try loading this page with nbviewer.org.</b></div><div class=\"sk-container\" hidden><div class=\"sk-item\"><div class=\"sk-estimator sk-toggleable\"><input class=\"sk-toggleable__control sk-hidden--visually\" id=\"sk-estimator-id-3\" type=\"checkbox\" checked><label for=\"sk-estimator-id-3\" class=\"sk-toggleable__label sk-toggleable__label-arrow\">LogisticRegression</label><div class=\"sk-toggleable__content\"><pre>LogisticRegression(n_jobs=-1)</pre></div></div></div></div></div>"
      ],
      "text/plain": [
       "LogisticRegression(n_jobs=-1)"
      ]
     },
     "execution_count": 92,
     "metadata": {},
     "output_type": "execute_result"
    }
   ],
   "source": [
    "from sklearn.linear_model import LogisticRegression\n",
    "lr = LogisticRegression(n_jobs=-1)\n",
    "lr.fit(X_train_bow,y_train)"
   ]
  },
  {
   "cell_type": "code",
   "execution_count": 93,
   "metadata": {
    "execution": {
     "iopub.execute_input": "2025-08-06T12:39:32.544684Z",
     "iopub.status.busy": "2025-08-06T12:39:32.544387Z",
     "iopub.status.idle": "2025-08-06T12:39:33.664620Z",
     "shell.execute_reply": "2025-08-06T12:39:33.663751Z",
     "shell.execute_reply.started": "2025-08-06T12:39:32.544664Z"
    },
    "trusted": true
   },
   "outputs": [
    {
     "data": {
      "text/plain": [
       "0.6907947767209415"
      ]
     },
     "execution_count": 93,
     "metadata": {},
     "output_type": "execute_result"
    }
   ],
   "source": [
    "y_pred = lr.predict(X_test_bow)\n",
    "from sklearn.metrics import accuracy_score,classification_report, ConfusionMatrixDisplay\n",
    "score_lr = accuracy_score(y_test, y_pred)\n",
    "score_lr"
   ]
  },
  {
   "cell_type": "markdown",
   "metadata": {},
   "source": [
    "**7.Model evaluation**"
   ]
  },
  {
   "cell_type": "code",
   "execution_count": 94,
   "metadata": {
    "execution": {
     "iopub.execute_input": "2025-08-06T12:39:33.666203Z",
     "iopub.status.busy": "2025-08-06T12:39:33.665670Z",
     "iopub.status.idle": "2025-08-06T12:39:33.913360Z",
     "shell.execute_reply": "2025-08-06T12:39:33.912347Z",
     "shell.execute_reply.started": "2025-08-06T12:39:33.666173Z"
    },
    "trusted": true
   },
   "outputs": [
    {
     "data": {
      "image/png": "[encoded data removed]",
      "text/plain": [
       "<Figure size 640x480 with 2 Axes>"
      ]
     },
     "metadata": {},
     "output_type": "display_data"
    }
   ],
   "source": [
    "ConfusionMatrixDisplay.from_predictions(y_test, y_pred);"
   ]
  },
  {
   "cell_type": "code",
   "execution_count": 95,
   "metadata": {
    "execution": {
     "iopub.execute_input": "2025-08-06T12:39:33.915632Z",
     "iopub.status.busy": "2025-08-06T12:39:33.915314Z",
     "iopub.status.idle": "2025-08-06T12:39:33.922244Z",
     "shell.execute_reply": "2025-08-06T12:39:33.921359Z",
     "shell.execute_reply.started": "2025-08-06T12:39:33.915610Z"
    },
    "trusted": true
   },
   "outputs": [
    {
     "data": {
      "text/plain": [
       "['sentinal_model.pkl']"
      ]
     },
     "execution_count": 95,
     "metadata": {},
     "output_type": "execute_result"
    }
   ],
   "source": [
    "# Save model\n",
    "joblib.dump(model, 'sentinal_model.pkl')"
   ]
  },
  {
   "cell_type": "code",
   "execution_count": 99,
   "metadata": {
    "execution": {
     "iopub.execute_input": "2025-08-06T12:45:47.024453Z",
     "iopub.status.busy": "2025-08-06T12:45:47.024067Z",
     "iopub.status.idle": "2025-08-06T12:45:47.349007Z",
     "shell.execute_reply": "2025-08-06T12:45:47.348185Z",
     "shell.execute_reply.started": "2025-08-06T12:45:47.024428Z"
    },
    "trusted": true
   },
   "outputs": [
    {
     "data": {
      "text/plain": [
       "['/kaggle/working/sentinal_model.pkl']"
      ]
     },
     "execution_count": 99,
     "metadata": {},
     "output_type": "execute_result"
    }
   ],
   "source": [
    "import joblib\n",
    "\n",
    "# Save both vectorizer and model as a tuple\n",
    "joblib.dump((cv, lr), '/kaggle/working/sentinal_model.pkl')\n"
   ]
  },
  {
   "cell_type": "markdown",
   "metadata": {},
   "source": [
    "**8.API Creation**"
   ]
  },
  {
   "cell_type": "code",
   "execution_count": null,
   "metadata": {
    "execution": {
     "iopub.execute_input": "2025-08-06T12:51:39.484675Z",
     "iopub.status.busy": "2025-08-06T12:51:39.484281Z",
     "iopub.status.idle": "2025-08-06T12:51:39.568136Z",
     "shell.execute_reply": "2025-08-06T12:51:39.567186Z",
     "shell.execute_reply.started": "2025-08-06T12:51:39.484650Z"
    },
    "trusted": true
   },
   "outputs": [],
   "source": [
    "from flask import Flask, request, jsonify, render_template_string\n",
    "import joblib\n",
    "\n",
    "# Create Flask app\n",
    "app = Flask(__name__)\n",
    "\n",
    "# Load model and vectorizer tuple\n",
    "cv, lr = joblib.load(\"sentinal_model.pkl\")\n",
    "\n",
    "# Inline HTML for testing form interface (can be previewed in notebooks with render_template_string)\n",
    "template = '''\n",
    "<!DOCTYPE html>\n",
    "<html lang=\"en\">\n",
    "<head>\n",
    "    <meta charset=\"UTF-8\">\n",
    "    <title>Sentiment Analysis</title>\n",
    "    <style>\n",
    "        body {\n",
    "            font-family: Arial, sans-serif;\n",
    "            background-color: #f2f2f2;\n",
    "            text-align: center;\n",
    "            padding-top: 50px;\n",
    "        }\n",
    "        form {\n",
    "            background-color: white;\n",
    "            display: inline-block;\n",
    "            padding: 30px;\n",
    "            border-radius: 8px;\n",
    "            box-shadow: 0 0 10px rgba(0,0,0,0.1);\n",
    "        }\n",
    "        input[type=text] {\n",
    "            width: 300px;\n",
    "            padding: 10px;\n",
    "            margin-top: 10px;\n",
    "            margin-bottom: 20px;\n",
    "        }\n",
    "        input[type=submit] {\n",
    "            padding: 10px 20px;\n",
    "            background-color: #007BFF;\n",
    "            color: white;\n",
    "            border: none;\n",
    "            border-radius: 5px;\n",
    "            cursor: pointer;\n",
    "        }\n",
    "        h2 {\n",
    "            margin-top: 30px;\n",
    "        }\n",
    "    </style>\n",
    "</head>\n",
    "<body>\n",
    "    <h1>Sentiment Analysis</h1>\n",
    "    <form action=\"/\" method=\"POST\">\n",
    "        <input type=\"text\" name=\"user_input\" placeholder=\"Enter your sentence...\" required>\n",
    "        <br>\n",
    "        <input type=\"submit\" value=\"Predict Sentiment\">\n",
    "    </form>\n",
    "    {% if prediction %}\n",
    "        <h2>Prediction: {{ prediction }}</h2>\n",
    "    {% endif %}\n",
    "</body>\n",
    "</html>\n",
    "'''\n",
    "\n",
    "@app.route(\"/\", methods=[\"GET\", \"POST\"])\n",
    "def predict_sentiment():\n",
    "    prediction = None\n",
    "    if request.method == \"POST\":\n",
    "        text = request.form[\"user_input\"]\n",
    "        features = cv.transform([text])\n",
    "        prediction = lr.predict(features)[0]\n",
    "    return render_template_string(template, prediction=prediction)\n",
    "\n",
    "@app.route(\"/api/predict\", methods=[\"POST\"])\n",
    "def api_predict():\n",
    "    data = request.get_json()\n",
    "    if not data or \"text\" not in data:\n",
    "        return jsonify({\"error\": \"Missing 'text' in request\"}), 400\n",
    "\n",
    "    features = cv.transform([data[\"text\"]])\n",
    "    prediction = lr.predict(features)[0]\n",
    "    return jsonify({\"prediction\": prediction})\n",
    "if __name__ == \"__main__\":\n",
    "    app.run(debug=True)\n"
   ]
  },
  {
   "cell_type": "code",
   "execution_count": 104,
   "metadata": {
    "execution": {
     "iopub.execute_input": "2025-08-06T12:51:55.127526Z",
     "iopub.status.busy": "2025-08-06T12:51:55.126731Z",
     "iopub.status.idle": "2025-08-06T12:51:55.133941Z",
     "shell.execute_reply": "2025-08-06T12:51:55.132921Z",
     "shell.execute_reply.started": "2025-08-06T12:51:55.127501Z"
    },
    "trusted": true
   },
   "outputs": [
    {
     "name": "stdout",
     "output_type": "stream",
     "text": [
      "Prediction: 2\n"
     ]
    }
   ],
   "source": [
    "# Example test prediction directly in notebook\n",
    "sample_text = \"I really love this product!\"\n",
    "features = cv.transform([sample_text])\n",
    "prediction = lr.predict(features)[0]\n",
    "print(\"Prediction:\", prediction)\n"
   ]
  },
  {
   "cell_type": "code",
   "execution_count": null,
   "metadata": {
    "trusted": true
   },
   "outputs": [],
   "source": []
  }
 ],
 "metadata": {
  "kaggle": {
   "accelerator": "none",
   "dataSources": [
    {
     "datasetId": 989445,
     "sourceId": 1808590,
     "sourceType": "datasetVersion"
    }
   ],
   "dockerImageVersionId": 31089,
   "isGpuEnabled": false,
   "isInternetEnabled": true,
   "language": "python",
   "sourceType": "notebook"
  },
  "kernelspec": {
   "display_name": "Python 3",
   "language": "python",
   "name": "python3"
  },
  "language_info": {
   "codemirror_mode": {
    "name": "ipython",
    "version": 3
   },
   "file_extension": ".py",
   "mimetype": "text/x-python",
   "name": "python",
   "nbconvert_exporter": "python",
   "pygments_lexer": "ipython3",
   "version": "3.11.13"
  }
 },
 "nbformat": 4,
 "nbformat_minor": 4
}
